{
 "cells": [
  {
   "cell_type": "code",
   "execution_count": 1,
   "metadata": {},
   "outputs": [],
   "source": [
    "import os"
   ]
  },
  {
   "cell_type": "code",
   "execution_count": 2,
   "metadata": {},
   "outputs": [
    {
     "name": "stdout",
     "output_type": "stream",
     "text": [
      "Dog: 12500\n",
      "Cat: 12500\n"
     ]
    }
   ],
   "source": [
    "cat = 0\n",
    "dog = 0\n",
    "\n",
    "for n in os.listdir('train'):\n",
    "    if os.path.basename(n).startswith('dog'):\n",
    "        dog += 1\n",
    "    elif os.path.basename(n).startswith('cat'):\n",
    "        cat += 1\n",
    "\n",
    "print(f\"Dog: {dog}\")\n",
    "print(f\"Cat: {cat}\")"
   ]
  },
  {
   "cell_type": "code",
   "execution_count": null,
   "metadata": {},
   "outputs": [],
   "source": []
  }
 ],
 "metadata": {
  "kernelspec": {
   "display_name": ".venv",
   "language": "python",
   "name": "python3"
  },
  "language_info": {
   "codemirror_mode": {
    "name": "ipython",
    "version": 3
   },
   "file_extension": ".py",
   "mimetype": "text/x-python",
   "name": "python",
   "nbconvert_exporter": "python",
   "pygments_lexer": "ipython3",
   "version": "3.9.13"
  },
  "orig_nbformat": 4
 },
 "nbformat": 4,
 "nbformat_minor": 2
}
